{
 "cells": [
  {
   "cell_type": "code",
   "execution_count": 12,
   "id": "64892c03",
   "metadata": {},
   "outputs": [],
   "source": [
    "#Import all important libary for this analysis\n",
    "#This file contains only the best methods tested in preprocessing analysis\n",
    "import pandas as pd\n",
    "import seaborn as sns\n",
    "import numpy as np\n",
    "import matplotlib.pyplot as plt"
   ]
  },
  {
   "cell_type": "code",
   "execution_count": 13,
   "id": "2d03b184",
   "metadata": {},
   "outputs": [],
   "source": [
    "# Read the SPSS Merged Median house price dataset which is available on my drive\n",
    "#This data already contains no missing value and part of the preprocessing has been done in spss\n",
    "df = pd.read_csv(\"Dataset/MergedMedianHousePrice_Deprivation_Compact1_NonMissing.csv\",header=0,delimiter=',')\n"
   ]
  },
  {
   "cell_type": "code",
   "execution_count": 14,
   "id": "cf10a366",
   "metadata": {},
   "outputs": [],
   "source": [
    "#Keep only required columns for this analysis\n",
    "#all other years are taken away because we only want to make use of the most recent year.\n",
    "columns_to_keep = ['LSOAcode2011', 'LSOAname', 'YearendingDec2021', 'IndexofMultipleDeprivationIMDScore', 'IncomeScorerate', 'EmploymentScorerate', 'EducationSkillsandTrainingScore', 'HealthDeprivationandDisabilityScore', 'CrimeScore', 'BarrierstoHousingandServicesScore', 'LivingEnvironmentScore', 'IncomeDeprivationAffectingChildrenIndexIDACIScorerate', 'IncomeDeprivationAffectingOlderPeopleIDAOPIScorerate', 'ChildrenandYoungPeopleSubdomainScore', 'AdultSkillsSubdomainScore', 'GeographicalBarriersSubdomainScore', 'WiderBarriersSubdomainScore', 'IndoorsSubdomainScore', 'OutdoorsSubdomainScore']\n",
    "df = df[columns_to_keep]\n",
    "column_mapping = {\n",
    "    'LSOAcode2011': 'LSOACode',\n",
    "    'LSOAname': 'LSOAName',\n",
    "    'YearendingDec2021': 'HousePrice', \n",
    "    'IndexofMultipleDeprivationIMDScore': 'IMDScore',\n",
    "    'IncomeScorerate': 'IncDepriv', \n",
    "    'EmploymentScorerate': 'EmpDepriv',  \n",
    "    'EducationSkillsandTrainingScore': 'EduSklDepriv',\n",
    "    'HealthDeprivationandDisabilityScore': 'HealthDepriv',\n",
    "    'CrimeScore': 'CrimScore',\n",
    "    'BarrierstoHousingandServicesScore': 'HousServDepriv', \n",
    "    'LivingEnvironmentScore': 'LivEnvDepriv', \n",
    "    'IncomeDeprivationAffectingChildrenIndexIDACIScorerate': 'ChildIncDepriv',\n",
    "    'IncomeDeprivationAffectingOlderPeopleIDAOPIScorerate': 'OldPplIncDepriv',\n",
    "    'ChildrenandYoungPeopleSubdomainScore': 'ChildYPDepriv', \n",
    "    'AdultSkillsSubdomainScore': 'AdultSklDepriv',\n",
    "    'GeographicalBarriersSubdomainScore': 'GeoBarDepriv',\n",
    "    'WiderBarriersSubdomainScore': 'WiderBarDepriv',  \n",
    "    'IndoorsSubdomainScore': 'IndoorDepriv',  \n",
    "    'OutdoorsSubdomainScore': 'OutdoorDepriv'  \n",
    "}\n",
    "\n",
    "# Now rename the columns in the DataFrame\n",
    "df.rename(columns=column_mapping, inplace=True)\n",
    "\n"
   ]
  },
  {
   "cell_type": "code",
   "execution_count": 15,
   "id": "92aca1b9",
   "metadata": {},
   "outputs": [
    {
     "name": "stdout",
     "output_type": "stream",
     "text": [
      "\n",
      "features that would be normalized \n",
      "['HousePrice', 'IMDScore', 'IncDepriv', 'EmpDepriv', 'EduSklDepriv', 'HealthDepriv', 'CrimScore', 'HousServDepriv', 'LivEnvDepriv', 'ChildIncDepriv', 'OldPplIncDepriv', 'ChildYPDepriv', 'AdultSklDepriv', 'GeoBarDepriv', 'WiderBarDepriv', 'IndoorDepriv', 'OutdoorDepriv']\n",
      "\n",
      "features would be normalized into these columns : \n",
      "['HousePrice_n', 'IMDScore_n', 'IncDepriv_n', 'EmpDepriv_n', 'EduSklDepriv_n', 'HealthDepriv_n', 'CrimScore_n', 'HousServDepriv_n', 'LivEnvDepriv_n', 'ChildIncDepriv_n', 'OldPplIncDepriv_n', 'ChildYPDepriv_n', 'AdultSklDepriv_n', 'GeoBarDepriv_n', 'WiderBarDepriv_n', 'IndoorDepriv_n', 'OutdoorDepriv_n']\n",
      "\n",
      "These all all the features of this data set: \n",
      "['LSOACode', 'LSOAName', 'HousePrice', 'IMDScore', 'IncDepriv', 'EmpDepriv', 'EduSklDepriv', 'HealthDepriv', 'CrimScore', 'HousServDepriv', 'LivEnvDepriv', 'ChildIncDepriv', 'OldPplIncDepriv', 'ChildYPDepriv', 'AdultSklDepriv', 'GeoBarDepriv', 'WiderBarDepriv', 'IndoorDepriv', 'OutdoorDepriv']\n"
     ]
    }
   ],
   "source": [
    "#Lets start by simply grouping our column names so we can access them easily at any point in time.\n",
    "allFeatures = [] # : all features would be stored here\n",
    "allNumericFeatures = [] # : all features to be normalized or all numeric features\n",
    "featuresNormalized = [] # : all features wwill eventually be normalized into these designated columns these columns \n",
    "                            #would have _n to their names\n",
    "for column in df.columns:\n",
    "    if df[column].dtype == 'float64':  # Check that type is float\n",
    "        #Tis feature has to be normalized\n",
    "            featuresNormalized.append(column+\"_n\")\n",
    "            allNumericFeatures.append(column)\n",
    "\n",
    "    allFeatures.append(column) #Stores all the columns or features of these dataset : wether it is old or freshly created\n",
    "\n",
    "\n",
    "#I am verifying I have what into expected in my respective variables\n",
    "print(\"\\nfeatures that would be normalized \")\n",
    "print(allNumericFeatures)\n",
    "print(\"\\nfeatures would be normalized into these columns : \")\n",
    "print(featuresNormalized)\n",
    "print(\"\\nThese all all the features of this data set: \")\n",
    "print(allFeatures)\n",
    "\n"
   ]
  },
  {
   "cell_type": "markdown",
   "id": "3058b9c5",
   "metadata": {},
   "source": [
    "# Removing outliers using Interquartile Range IQR "
   ]
  },
  {
   "cell_type": "code",
   "execution_count": 20,
   "id": "42f749f6",
   "metadata": {},
   "outputs": [],
   "source": [
    "#Build function to mark rows with outliers\n",
    "columns_with_outliers = allNumericFeatures\n",
    "def outliers(dfc, ft, scale):\n",
    "    Q1 = dfc[ft].quantile(0.25)\n",
    "    Q3 = dfc[ft].quantile(0.75)\n",
    "    IQR = Q3 - Q1\n",
    "    \n",
    "    lower_bound = Q1 - scale * IQR\n",
    "    upper_bound = Q3 + scale * IQR\n",
    "    \n",
    "    ls = df.index[ (dfc[ft] < lower_bound) | (dfc[ft] > upper_bound)]\n",
    "    print(\"feature name : \"+ft)\n",
    "    print(\"Number of outliers : \"+str(len(sorted(set(ls)))))\n",
    "    print(\"third quartile \"+str(Q3))\n",
    "    print(\"first quartile \"+str(Q3))\n",
    "    print(\"Inter Quartile Range \"+str(IQR))\n",
    "    print(\"\\--------------------------- \")\n",
    "    return ls\n",
    "    \n",
    "\n",
    "    \n",
    "    \n",
    "    \n",
    "#Build function to remove rows marked as outliers\n",
    "    \n",
    "def removeOutlierIndex(df,ls):\n",
    "    ls = sorted(set(ls))\n",
    "    df = df.drop(ls)\n",
    "    return df"
   ]
  },
  {
   "cell_type": "code",
   "execution_count": 21,
   "id": "e7a9b8d3",
   "metadata": {},
   "outputs": [
    {
     "name": "stdout",
     "output_type": "stream",
     "text": [
      "feature name : HousePrice\n",
      "Number of outliers : 4349\n",
      "third quartile 400000.0\n",
      "first quartile 400000.0\n",
      "Inter Quartile Range 205005.0\n",
      "\\--------------------------- \n",
      "feature name : IMDScore\n",
      "Number of outliers : 3646\n",
      "third quartile 25.133000000000003\n",
      "first quartile 25.133000000000003\n",
      "Inter Quartile Range 16.283500000000004\n",
      "\\--------------------------- \n",
      "feature name : IncDepriv\n",
      "Number of outliers : 3679\n",
      "third quartile 0.169\n",
      "first quartile 0.169\n",
      "Inter Quartile Range 0.10800000000000001\n",
      "\\--------------------------- \n",
      "feature name : EmpDepriv\n",
      "Number of outliers : 4070\n",
      "third quartile 0.136\n",
      "first quartile 0.136\n",
      "Inter Quartile Range 0.07700000000000001\n",
      "\\--------------------------- \n",
      "feature name : EduSklDepriv\n",
      "Number of outliers : 3791\n",
      "third quartile 26.490499999999997\n",
      "first quartile 26.490499999999997\n",
      "Inter Quartile Range 19.975499999999997\n",
      "\\--------------------------- \n",
      "feature name : HealthDepriv\n",
      "Number of outliers : 5033\n",
      "third quartile 0.418\n",
      "first quartile 0.418\n",
      "Inter Quartile Range 1.107\n",
      "\\--------------------------- \n",
      "feature name : CrimScore\n",
      "Number of outliers : 4486\n",
      "third quartile 0.443\n",
      "first quartile 0.443\n",
      "Inter Quartile Range 1.067\n",
      "\\--------------------------- \n",
      "feature name : HousServDepriv\n",
      "Number of outliers : 4448\n",
      "third quartile 26.5985\n",
      "first quartile 26.5985\n",
      "Inter Quartile Range 13.591500000000002\n",
      "\\--------------------------- \n",
      "feature name : LivEnvDepriv\n",
      "Number of outliers : 3647\n",
      "third quartile 30.345\n",
      "first quartile 30.345\n",
      "Inter Quartile Range 21.627\n",
      "\\--------------------------- \n",
      "feature name : ChildIncDepriv\n",
      "Number of outliers : 3424\n",
      "third quartile 0.226\n",
      "first quartile 0.226\n",
      "Inter Quartile Range 0.157\n",
      "\\--------------------------- \n",
      "feature name : OldPplIncDepriv\n",
      "Number of outliers : 3655\n",
      "third quartile 0.213\n",
      "first quartile 0.213\n",
      "Inter Quartile Range 0.131\n",
      "\\--------------------------- \n",
      "feature name : ChildYPDepriv\n",
      "Number of outliers : 4851\n",
      "third quartile 0.427\n",
      "first quartile 0.427\n",
      "Inter Quartile Range 1.054\n",
      "\\--------------------------- \n",
      "feature name : AdultSklDepriv\n",
      "Number of outliers : 4729\n",
      "third quartile 0.355\n",
      "first quartile 0.355\n",
      "Inter Quartile Range 0.13799999999999998\n",
      "\\--------------------------- \n",
      "feature name : GeoBarDepriv\n",
      "Number of outliers : 5381\n",
      "third quartile 0.5355000000000001\n",
      "first quartile 0.5355000000000001\n",
      "Inter Quartile Range 1.0125000000000002\n",
      "\\--------------------------- \n",
      "feature name : WiderBarDepriv\n",
      "Number of outliers : 5152\n",
      "third quartile 1.064\n",
      "first quartile 1.064\n",
      "Inter Quartile Range 2.964\n",
      "\\--------------------------- \n",
      "feature name : IndoorDepriv\n",
      "Number of outliers : 4603\n",
      "third quartile 0.6194999999999999\n",
      "first quartile 0.6194999999999999\n",
      "Inter Quartile Range 1.2205\n",
      "\\--------------------------- \n",
      "feature name : OutdoorDepriv\n",
      "Number of outliers : 5068\n",
      "third quartile 0.446\n",
      "first quartile 0.446\n",
      "Inter Quartile Range 1.092\n",
      "\\--------------------------- \n"
     ]
    }
   ],
   "source": [
    "#Call function to mark rows with outliers\n",
    "index_list = []\n",
    "for feature in columns_with_outliers:\n",
    "    index_list.extend(outliers(df,feature,0.5))"
   ]
  },
  {
   "cell_type": "code",
   "execution_count": 22,
   "id": "6329dc15",
   "metadata": {},
   "outputs": [],
   "source": [
    "#Cal function to remove outlier rows\n",
    "df_no_outliers = removeOutlierIndex(df,index_list)"
   ]
  },
  {
   "cell_type": "code",
   "execution_count": 23,
   "id": "911e95ad",
   "metadata": {},
   "outputs": [
    {
     "data": {
      "text/plain": [
       "(7510, 19)"
      ]
     },
     "execution_count": 23,
     "metadata": {},
     "output_type": "execute_result"
    }
   ],
   "source": [
    "df_no_outliers.shape"
   ]
  },
  {
   "cell_type": "markdown",
   "id": "eafc0e71",
   "metadata": {},
   "source": [
    "# Now Normalzing the data"
   ]
  },
  {
   "cell_type": "code",
   "execution_count": 24,
   "id": "0ce4f0a2",
   "metadata": {},
   "outputs": [
    {
     "name": "stdout",
     "output_type": "stream",
     "text": [
      "finished preprocessing.....\n"
     ]
    }
   ],
   "source": [
    "#Normalzie all the designated features to normalize here\n",
    "#When we are normalizing we want to keep the original data untouched so we normalize into a different column\n",
    "dfp = df_no_outliers #where dfp is dataframe processed\n",
    "dfp[featuresNormalized] = dfp[allNumericFeatures].apply(lambda x: (x - x.min()) / (x.max() - x.min()))\n",
    "\n",
    "print(\"finished preprocessing.....\")\n"
   ]
  }
 ],
 "metadata": {
  "kernelspec": {
   "display_name": "Python 3 (ipykernel)",
   "language": "python",
   "name": "python3"
  },
  "language_info": {
   "codemirror_mode": {
    "name": "ipython",
    "version": 3
   },
   "file_extension": ".py",
   "mimetype": "text/x-python",
   "name": "python",
   "nbconvert_exporter": "python",
   "pygments_lexer": "ipython3",
   "version": "3.11.3"
  }
 },
 "nbformat": 4,
 "nbformat_minor": 5
}
